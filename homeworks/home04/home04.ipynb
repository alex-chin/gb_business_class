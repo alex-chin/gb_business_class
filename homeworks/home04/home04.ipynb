{
 "cells": [
  {
   "cell_type": "markdown",
   "source": [
    "### Задание к Уроку 4\n",
    "\n",
    "- Сгенерируйте выборку для регрессии, содержащую 15000 элементов, 5 информативных признаков, 4 неинформативных признака.\n",
    "- Добавьте шум равный 1.\n",
    "- Постройте модель линейной регрессии и оцените значение целевого признака для примера, содержащего только 0.\n",
    "- Подумайте, на какие показатели мог повлиять добавляемый шум."
   ],
   "metadata": {
    "collapsed": false
   }
  },
  {
   "cell_type": "code",
   "execution_count": 21,
   "outputs": [],
   "source": [
    "from sklearn.datasets import make_regression\n",
    "import pandas as pd\n",
    "from sklearn.linear_model import LinearRegression\n",
    "import matplotlib.pyplot as plt"
   ],
   "metadata": {
    "collapsed": false,
    "pycharm": {
     "name": "#%%\n"
    }
   }
  },
  {
   "cell_type": "code",
   "execution_count": null,
   "outputs": [],
   "source": [
    "features, output, coef = make_regression(n_samples=15000, n_informative=5, n_features=9, noise=1, coef=True)"
   ],
   "metadata": {
    "collapsed": false,
    "pycharm": {
     "name": "#%%\n"
    }
   }
  },
  {
   "cell_type": "code",
   "execution_count": 16,
   "outputs": [
    {
     "data": {
      "text/plain": "         Ф1        Ф2        Ф3        Ф4        Ф5        Ф6        Ф7  \\\n0 -0.057683  0.127816 -0.943419 -0.639729 -0.702497  1.215023  0.622466   \n1  0.149736  0.643961 -0.403197  1.441929  0.327739  1.019843 -0.568828   \n2 -2.641302 -0.489750  0.068048 -0.673952  1.208464  0.925192 -0.156900   \n3  0.804114 -0.693183  0.870180 -0.266816 -0.622030  0.579222 -1.082181   \n4 -0.998454  1.221155 -0.863702  1.095543  0.239617 -0.924294 -2.051684   \n\n         Ф8        Ф9  Результат  \n0  0.322904  0.035400   2.173165  \n1 -0.431984 -0.028097  99.212861  \n2  1.785635 -1.281546  20.947962  \n3  1.224552 -0.829138 -86.329554  \n4 -0.076736 -0.018188 -57.367701  ",
      "text/html": "<div>\n<style scoped>\n    .dataframe tbody tr th:only-of-type {\n        vertical-align: middle;\n    }\n\n    .dataframe tbody tr th {\n        vertical-align: top;\n    }\n\n    .dataframe thead th {\n        text-align: right;\n    }\n</style>\n<table border=\"1\" class=\"dataframe\">\n  <thead>\n    <tr style=\"text-align: right;\">\n      <th></th>\n      <th>Ф1</th>\n      <th>Ф2</th>\n      <th>Ф3</th>\n      <th>Ф4</th>\n      <th>Ф5</th>\n      <th>Ф6</th>\n      <th>Ф7</th>\n      <th>Ф8</th>\n      <th>Ф9</th>\n      <th>Результат</th>\n    </tr>\n  </thead>\n  <tbody>\n    <tr>\n      <th>0</th>\n      <td>-0.057683</td>\n      <td>0.127816</td>\n      <td>-0.943419</td>\n      <td>-0.639729</td>\n      <td>-0.702497</td>\n      <td>1.215023</td>\n      <td>0.622466</td>\n      <td>0.322904</td>\n      <td>0.035400</td>\n      <td>2.173165</td>\n    </tr>\n    <tr>\n      <th>1</th>\n      <td>0.149736</td>\n      <td>0.643961</td>\n      <td>-0.403197</td>\n      <td>1.441929</td>\n      <td>0.327739</td>\n      <td>1.019843</td>\n      <td>-0.568828</td>\n      <td>-0.431984</td>\n      <td>-0.028097</td>\n      <td>99.212861</td>\n    </tr>\n    <tr>\n      <th>2</th>\n      <td>-2.641302</td>\n      <td>-0.489750</td>\n      <td>0.068048</td>\n      <td>-0.673952</td>\n      <td>1.208464</td>\n      <td>0.925192</td>\n      <td>-0.156900</td>\n      <td>1.785635</td>\n      <td>-1.281546</td>\n      <td>20.947962</td>\n    </tr>\n    <tr>\n      <th>3</th>\n      <td>0.804114</td>\n      <td>-0.693183</td>\n      <td>0.870180</td>\n      <td>-0.266816</td>\n      <td>-0.622030</td>\n      <td>0.579222</td>\n      <td>-1.082181</td>\n      <td>1.224552</td>\n      <td>-0.829138</td>\n      <td>-86.329554</td>\n    </tr>\n    <tr>\n      <th>4</th>\n      <td>-0.998454</td>\n      <td>1.221155</td>\n      <td>-0.863702</td>\n      <td>1.095543</td>\n      <td>0.239617</td>\n      <td>-0.924294</td>\n      <td>-2.051684</td>\n      <td>-0.076736</td>\n      <td>-0.018188</td>\n      <td>-57.367701</td>\n    </tr>\n  </tbody>\n</table>\n</div>"
     },
     "execution_count": 16,
     "metadata": {},
     "output_type": "execute_result"
    }
   ],
   "source": [
    "X = pd.DataFrame(features, columns=['Ф1', 'Ф2', 'Ф3', 'Ф4', 'Ф5', 'Ф6', 'Ф7', 'Ф8', 'Ф9'])\n",
    "y = pd.DataFrame(output, columns=['Результат'])\n",
    "df = pd.concat([X,y], axis=1)\n",
    "\n",
    "df.head(5)"
   ],
   "metadata": {
    "collapsed": false,
    "pycharm": {
     "name": "#%%\n"
    }
   }
  },
  {
   "cell_type": "code",
   "execution_count": 17,
   "outputs": [
    {
     "data": {
      "text/plain": "LinearRegression()"
     },
     "execution_count": 17,
     "metadata": {},
     "output_type": "execute_result"
    }
   ],
   "source": [
    "model = LinearRegression()\n",
    "model.fit(X,y)"
   ],
   "metadata": {
    "collapsed": false,
    "pycharm": {
     "name": "#%%\n"
    }
   }
  },
  {
   "cell_type": "code",
   "execution_count": 18,
   "outputs": [
    {
     "name": "stderr",
     "output_type": "stream",
     "text": [
      "c:\\projects\\geekbrainsai\\gb_business_class\\venv\\lib\\site-packages\\sklearn\\base.py:441: UserWarning: X does not have valid feature names, but LinearRegression was fitted with feature names\n",
      "  warnings.warn(\n"
     ]
    },
    {
     "data": {
      "text/plain": "array([[-0.00564702]])"
     },
     "execution_count": 18,
     "metadata": {},
     "output_type": "execute_result"
    }
   ],
   "source": [
    "model.predict([[0]*9])"
   ],
   "metadata": {
    "collapsed": false,
    "pycharm": {
     "name": "#%%\n"
    }
   }
  },
  {
   "cell_type": "code",
   "execution_count": 19,
   "outputs": [
    {
     "data": {
      "text/plain": "array([ 0.        ,  0.        ,  0.        , 55.98250819, 42.21049782,\n       29.97945178, 49.63135667,  0.        , 11.05159697])"
     },
     "execution_count": 19,
     "metadata": {},
     "output_type": "execute_result"
    }
   ],
   "source": [
    "coef\n"
   ],
   "metadata": {
    "collapsed": false,
    "pycharm": {
     "name": "#%%\n"
    }
   }
  },
  {
   "cell_type": "code",
   "execution_count": 20,
   "outputs": [
    {
     "data": {
      "text/plain": "array([[-7.72848957e-04, -1.18787062e-02, -1.74620970e-02,\n         5.59983228e+01,  4.22081682e+01,  2.99865683e+01,\n         4.96186294e+01,  1.32296852e-02,  1.10549888e+01]])"
     },
     "execution_count": 20,
     "metadata": {},
     "output_type": "execute_result"
    }
   ],
   "source": [
    "model.coef_\n",
    "\n",
    "\n",
    "\n"
   ],
   "metadata": {
    "collapsed": false,
    "pycharm": {
     "name": "#%%\n"
    }
   }
  }
 ],
 "metadata": {
  "kernelspec": {
   "display_name": "Python 3",
   "language": "python",
   "name": "python3"
  },
  "language_info": {
   "codemirror_mode": {
    "name": "ipython",
    "version": 2
   },
   "file_extension": ".py",
   "mimetype": "text/x-python",
   "name": "python",
   "nbconvert_exporter": "python",
   "pygments_lexer": "ipython2",
   "version": "2.7.6"
  }
 },
 "nbformat": 4,
 "nbformat_minor": 0
}