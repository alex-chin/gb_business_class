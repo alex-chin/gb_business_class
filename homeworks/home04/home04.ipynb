{
 "cells": [
  {
   "cell_type": "markdown",
   "source": [
    "### Задание к Уроку 4\n",
    "\n",
    "- Сгенерируйте выборку для регрессии, содержащую 15000 элементов, 5 информативных признаков, 4 неинформативных признака.\n",
    "- Добавьте шум равный 1.\n",
    "- Постройте модель линейной регрессии и оцените значение целевого признака для примера, содержащего только 0.\n",
    "- Подумайте, на какие показатели мог повлиять добавляемый шум."
   ],
   "metadata": {
    "collapsed": false
   }
  },
  {
   "cell_type": "code",
   "execution_count": 21,
   "outputs": [],
   "source": [
    "from sklearn.datasets import make_regression\n",
    "import pandas as pd\n",
    "from sklearn.linear_model import LinearRegression\n",
    "import matplotlib.pyplot as plt"
   ],
   "metadata": {
    "collapsed": false,
    "pycharm": {
     "name": "#%%\n"
    }
   }
  },
  {
   "cell_type": "code",
   "execution_count": 45,
   "outputs": [],
   "source": [
    "features, output, coef = make_regression(n_samples=15000, n_informative=5, n_features=9, noise=1, coef=True)"
   ],
   "metadata": {
    "collapsed": false,
    "pycharm": {
     "name": "#%%\n"
    }
   }
  },
  {
   "cell_type": "code",
   "execution_count": 46,
   "outputs": [
    {
     "data": {
      "text/plain": "         Ф1        Ф2        Ф3        Ф4        Ф5        Ф6        Ф7  \\\n0  0.868865  0.566490  0.702442  1.052447 -2.505456 -0.716061  0.760339   \n1 -0.896076  1.882024  0.244999  0.189818 -1.936916 -0.376644  1.736408   \n2 -2.527581  1.249756  0.745595 -0.950374  0.164602 -0.617005 -0.082183   \n3 -0.372148  0.832102 -1.429389 -0.658253  0.871726 -0.818675  0.962360   \n4  1.726089 -0.079473  0.484164 -1.352508  0.725625 -0.907281 -0.806242   \n\n         Ф8        Ф9   Результат  \n0  0.637297  1.302320  200.000472  \n1 -0.167492 -0.194805  284.270002  \n2 -0.061117 -0.828316   15.625202  \n3  0.672305  1.391593  -18.211773  \n4  1.006181 -0.156909   17.218603  ",
      "text/html": "<div>\n<style scoped>\n    .dataframe tbody tr th:only-of-type {\n        vertical-align: middle;\n    }\n\n    .dataframe tbody tr th {\n        vertical-align: top;\n    }\n\n    .dataframe thead th {\n        text-align: right;\n    }\n</style>\n<table border=\"1\" class=\"dataframe\">\n  <thead>\n    <tr style=\"text-align: right;\">\n      <th></th>\n      <th>Ф1</th>\n      <th>Ф2</th>\n      <th>Ф3</th>\n      <th>Ф4</th>\n      <th>Ф5</th>\n      <th>Ф6</th>\n      <th>Ф7</th>\n      <th>Ф8</th>\n      <th>Ф9</th>\n      <th>Результат</th>\n    </tr>\n  </thead>\n  <tbody>\n    <tr>\n      <th>0</th>\n      <td>0.868865</td>\n      <td>0.566490</td>\n      <td>0.702442</td>\n      <td>1.052447</td>\n      <td>-2.505456</td>\n      <td>-0.716061</td>\n      <td>0.760339</td>\n      <td>0.637297</td>\n      <td>1.302320</td>\n      <td>200.000472</td>\n    </tr>\n    <tr>\n      <th>1</th>\n      <td>-0.896076</td>\n      <td>1.882024</td>\n      <td>0.244999</td>\n      <td>0.189818</td>\n      <td>-1.936916</td>\n      <td>-0.376644</td>\n      <td>1.736408</td>\n      <td>-0.167492</td>\n      <td>-0.194805</td>\n      <td>284.270002</td>\n    </tr>\n    <tr>\n      <th>2</th>\n      <td>-2.527581</td>\n      <td>1.249756</td>\n      <td>0.745595</td>\n      <td>-0.950374</td>\n      <td>0.164602</td>\n      <td>-0.617005</td>\n      <td>-0.082183</td>\n      <td>-0.061117</td>\n      <td>-0.828316</td>\n      <td>15.625202</td>\n    </tr>\n    <tr>\n      <th>3</th>\n      <td>-0.372148</td>\n      <td>0.832102</td>\n      <td>-1.429389</td>\n      <td>-0.658253</td>\n      <td>0.871726</td>\n      <td>-0.818675</td>\n      <td>0.962360</td>\n      <td>0.672305</td>\n      <td>1.391593</td>\n      <td>-18.211773</td>\n    </tr>\n    <tr>\n      <th>4</th>\n      <td>1.726089</td>\n      <td>-0.079473</td>\n      <td>0.484164</td>\n      <td>-1.352508</td>\n      <td>0.725625</td>\n      <td>-0.907281</td>\n      <td>-0.806242</td>\n      <td>1.006181</td>\n      <td>-0.156909</td>\n      <td>17.218603</td>\n    </tr>\n  </tbody>\n</table>\n</div>"
     },
     "execution_count": 46,
     "metadata": {},
     "output_type": "execute_result"
    }
   ],
   "source": [
    "X = pd.DataFrame(features, columns=['Ф1', 'Ф2', 'Ф3', 'Ф4', 'Ф5', 'Ф6', 'Ф7', 'Ф8', 'Ф9'])\n",
    "y = pd.DataFrame(output, columns=['Результат'])\n",
    "df = pd.concat([X,y], axis=1)\n",
    "\n",
    "df.head(5)"
   ],
   "metadata": {
    "collapsed": false,
    "pycharm": {
     "name": "#%%\n"
    }
   }
  },
  {
   "cell_type": "code",
   "execution_count": 47,
   "outputs": [
    {
     "data": {
      "text/plain": "LinearRegression()"
     },
     "execution_count": 47,
     "metadata": {},
     "output_type": "execute_result"
    }
   ],
   "source": [
    "model = LinearRegression()\n",
    "model.fit(X,y)"
   ],
   "metadata": {
    "collapsed": false,
    "pycharm": {
     "name": "#%%\n"
    }
   }
  },
  {
   "cell_type": "code",
   "execution_count": 48,
   "outputs": [
    {
     "name": "stderr",
     "output_type": "stream",
     "text": [
      "c:\\projects\\geekbrainsai\\gb_business_class\\venv\\lib\\site-packages\\sklearn\\base.py:441: UserWarning: X does not have valid feature names, but LinearRegression was fitted with feature names\n",
      "  warnings.warn(\n"
     ]
    },
    {
     "data": {
      "text/plain": "array([[-0.01341963]])"
     },
     "execution_count": 48,
     "metadata": {},
     "output_type": "execute_result"
    }
   ],
   "source": [
    "model.predict([[0]*9])"
   ],
   "metadata": {
    "collapsed": false,
    "pycharm": {
     "name": "#%%\n"
    }
   }
  },
  {
   "cell_type": "code",
   "execution_count": 49,
   "outputs": [
    {
     "data": {
      "text/plain": "array([51.00010469, 84.64403096, 91.05334214,  0.        ,  0.        ,\n       36.28341898, 93.67818668,  0.        ,  0.        ])"
     },
     "execution_count": 49,
     "metadata": {},
     "output_type": "execute_result"
    }
   ],
   "source": [
    "coef\n"
   ],
   "metadata": {
    "collapsed": false,
    "pycharm": {
     "name": "#%%\n"
    }
   }
  },
  {
   "cell_type": "code",
   "execution_count": 50,
   "outputs": [
    {
     "data": {
      "text/plain": "array([[ 5.10005024e+01,  8.46415373e+01,  9.10531869e+01,\n         4.40926903e-03, -1.07796763e-02,  3.62785495e+01,\n         9.36700624e+01, -5.09546612e-03, -8.75829607e-03]])"
     },
     "execution_count": 50,
     "metadata": {},
     "output_type": "execute_result"
    }
   ],
   "source": [
    "model.coef_"
   ],
   "metadata": {
    "collapsed": false,
    "pycharm": {
     "name": "#%%\n"
    }
   }
  },
  {
   "cell_type": "code",
   "execution_count": 44,
   "outputs": [
    {
     "data": {
      "text/plain": "<matplotlib.collections.PathCollection at 0x1aeff0f9be0>"
     },
     "execution_count": 44,
     "metadata": {},
     "output_type": "execute_result"
    },
    {
     "data": {
      "text/plain": "<Figure size 432x288 with 1 Axes>",
      "image/png": "[encoded data removed]"
     },
     "metadata": {
      "needs_background": "light"
     },
     "output_type": "display_data"
    }
   ],
   "source": [
    "plt.scatter(X.Ф4, y)"
   ],
   "metadata": {
    "collapsed": false,
    "pycharm": {
     "name": "#%%\n"
    }
   }
  },
  {
   "cell_type": "code",
   "execution_count": null,
   "outputs": [],
   "source": [],
   "metadata": {
    "collapsed": false,
    "pycharm": {
     "name": "#%%\n"
    }
   }
  }
 ],
 "metadata": {
  "kernelspec": {
   "display_name": "Python 3",
   "language": "python",
   "name": "python3"
  },
  "language_info": {
   "codemirror_mode": {
    "name": "ipython",
    "version": 2
   },
   "file_extension": ".py",
   "mimetype": "text/x-python",
   "name": "python",
   "nbconvert_exporter": "python",
   "pygments_lexer": "ipython2",
   "version": "2.7.6"
  }
 },
 "nbformat": 4,
 "nbformat_minor": 0
}