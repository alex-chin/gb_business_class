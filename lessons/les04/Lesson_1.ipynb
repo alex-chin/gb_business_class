{
 "cells": [
  {
   "cell_type": "code",
   "execution_count": 118,
   "metadata": {},
   "outputs": [],
   "source": [
    "import numpy as np \n",
    "import pandas as pd \n",
    "import matplotlib.pyplot as plt\n",
    "import seaborn as sns\n",
    "\n",
    "from sklearn.datasets import make_regression, make_classification\n",
    "from sklearn.linear_model import LinearRegression\n",
    "from sklearn.linear_model import LogisticRegression\n",
    "from sklearn.metrics import classification_report, confusion_matrix\n"
   ]
  },
  {
   "cell_type": "markdown",
   "metadata": {},
   "source": [
    "### Генерация выборки"
   ]
  },
  {
   "cell_type": "code",
   "execution_count": 123,
   "metadata": {},
   "outputs": [],
   "source": [
    "features, output, coef = make_regression(n_samples = 10000, #количество элементов\n",
    "                                         n_features = 5, #количество признаков\n",
    "                                         n_informative = 4, #количество информативных признаков\n",
    "                                         n_targets = 1, #количество целевых признаков\n",
    "                                         noise = 0, #шум\n",
    "                                         coef = True)\n",
    "\n",
    "X = pd.DataFrame(features, columns=['Фактор_1', 'Фактор_2', 'Фактор_3', 'Фактор_4', 'Фактор_5'])\n",
    "y = pd.DataFrame(output, columns=['Результат'])\n",
    "\n",
    "df = pd.concat([X, y], axis = 1)"
   ]
  },
  {
   "cell_type": "code",
   "execution_count": 112,
   "metadata": {},
   "outputs": [],
   "source": [
    "classification_data, classification_labels = make_classification(n_samples=500, #количество элементов\n",
    "                                                      n_features=5, #количество признаков\n",
    "                                                      n_informative=4, #количество информативных признаков\n",
    "                                                      n_classes=2, #количество классов\n",
    "                                                      n_redundant=0, #количество избыточных признаков\n",
    "                                                      random_state=23) #возможность генерировать одинаковые выборки\n"
   ]
  },
  {
   "cell_type": "markdown",
   "metadata": {},
   "source": [
    "### Небольшое повторение"
   ]
  },
  {
   "cell_type": "code",
   "execution_count": 47,
   "metadata": {},
   "outputs": [
    {
     "name": "stdout",
     "output_type": "stream",
     "text": [
      "На строке 139 значение Фактора 1 больше или равно 3\n",
      "На строке 224 значение Фактора 1 больше или равно 3\n",
      "break\n"
     ]
    }
   ],
   "source": [
    "for index, row in df.iterrows():\n",
    "    if row[\"Фактор_1\"] >= 3:\n",
    "        print(f\"На строке {index} значение Фактора 1 больше или равно 3\")\n",
    "        \n",
    "    elif row[\"Фактор_1\"] < -3:\n",
    "        print(\"break\")\n",
    "        break\n",
    "        \n",
    "    elif row[\"Фактор_1\"] != 1:\n",
    "        continue  \n",
    "        \n",
    "    else:\n",
    "        pass\n",
    "        print(\"pass\")"
   ]
  },
  {
   "cell_type": "markdown",
   "metadata": {},
   "source": [
    "### Предварительная обработка данных"
   ]
  },
  {
   "cell_type": "code",
   "execution_count": 58,
   "metadata": {},
   "outputs": [
    {
     "data": {
      "text/html": [
       "<div>\n",
       "<style scoped>\n",
       "    .dataframe tbody tr th:only-of-type {\n",
       "        vertical-align: middle;\n",
       "    }\n",
       "\n",
       "    .dataframe tbody tr th {\n",
       "        vertical-align: top;\n",
       "    }\n",
       "\n",
       "    .dataframe thead th {\n",
       "        text-align: right;\n",
       "    }\n",
       "</style>\n",
       "<table border=\"1\" class=\"dataframe\">\n",
       "  <thead>\n",
       "    <tr style=\"text-align: right;\">\n",
       "      <th></th>\n",
       "      <th>Фактор_1</th>\n",
       "      <th>Фактор_2</th>\n",
       "      <th>Фактор_3</th>\n",
       "      <th>Фактор_4</th>\n",
       "      <th>Фактор_5</th>\n",
       "      <th>Результат</th>\n",
       "    </tr>\n",
       "  </thead>\n",
       "  <tbody>\n",
       "    <tr>\n",
       "      <th>count</th>\n",
       "      <td>10000.000000</td>\n",
       "      <td>10000.000000</td>\n",
       "      <td>9999.000000</td>\n",
       "      <td>10000.000000</td>\n",
       "      <td>10000.000000</td>\n",
       "      <td>10000.000000</td>\n",
       "    </tr>\n",
       "    <tr>\n",
       "      <th>mean</th>\n",
       "      <td>-0.003244</td>\n",
       "      <td>0.002525</td>\n",
       "      <td>0.000511</td>\n",
       "      <td>-0.010650</td>\n",
       "      <td>-0.020358</td>\n",
       "      <td>-1.327296</td>\n",
       "    </tr>\n",
       "    <tr>\n",
       "      <th>std</th>\n",
       "      <td>0.995994</td>\n",
       "      <td>0.995989</td>\n",
       "      <td>0.998770</td>\n",
       "      <td>0.997868</td>\n",
       "      <td>0.989700</td>\n",
       "      <td>68.849251</td>\n",
       "    </tr>\n",
       "    <tr>\n",
       "      <th>min</th>\n",
       "      <td>-3.604667</td>\n",
       "      <td>-3.808884</td>\n",
       "      <td>-3.641426</td>\n",
       "      <td>-4.517181</td>\n",
       "      <td>-4.071603</td>\n",
       "      <td>-287.832103</td>\n",
       "    </tr>\n",
       "    <tr>\n",
       "      <th>25%</th>\n",
       "      <td>-0.675530</td>\n",
       "      <td>-0.678343</td>\n",
       "      <td>-0.678133</td>\n",
       "      <td>-0.690419</td>\n",
       "      <td>-0.692561</td>\n",
       "      <td>-47.116511</td>\n",
       "    </tr>\n",
       "    <tr>\n",
       "      <th>50%</th>\n",
       "      <td>-0.009095</td>\n",
       "      <td>0.006445</td>\n",
       "      <td>0.005438</td>\n",
       "      <td>-0.006908</td>\n",
       "      <td>-0.017363</td>\n",
       "      <td>-0.594531</td>\n",
       "    </tr>\n",
       "    <tr>\n",
       "      <th>75%</th>\n",
       "      <td>0.673320</td>\n",
       "      <td>0.680937</td>\n",
       "      <td>0.678027</td>\n",
       "      <td>0.657833</td>\n",
       "      <td>0.649842</td>\n",
       "      <td>44.512219</td>\n",
       "    </tr>\n",
       "    <tr>\n",
       "      <th>max</th>\n",
       "      <td>4.031853</td>\n",
       "      <td>3.853466</td>\n",
       "      <td>3.765629</td>\n",
       "      <td>3.570159</td>\n",
       "      <td>4.637303</td>\n",
       "      <td>283.469405</td>\n",
       "    </tr>\n",
       "  </tbody>\n",
       "</table>\n",
       "</div>"
      ],
      "text/plain": [
       "           Фактор_1      Фактор_2     Фактор_3      Фактор_4      Фактор_5  \\\n",
       "count  10000.000000  10000.000000  9999.000000  10000.000000  10000.000000   \n",
       "mean      -0.003244      0.002525     0.000511     -0.010650     -0.020358   \n",
       "std        0.995994      0.995989     0.998770      0.997868      0.989700   \n",
       "min       -3.604667     -3.808884    -3.641426     -4.517181     -4.071603   \n",
       "25%       -0.675530     -0.678343    -0.678133     -0.690419     -0.692561   \n",
       "50%       -0.009095      0.006445     0.005438     -0.006908     -0.017363   \n",
       "75%        0.673320      0.680937     0.678027      0.657833      0.649842   \n",
       "max        4.031853      3.853466     3.765629      3.570159      4.637303   \n",
       "\n",
       "          Результат  \n",
       "count  10000.000000  \n",
       "mean      -1.327296  \n",
       "std       68.849251  \n",
       "min     -287.832103  \n",
       "25%      -47.116511  \n",
       "50%       -0.594531  \n",
       "75%       44.512219  \n",
       "max      283.469405  "
      ]
     },
     "execution_count": 58,
     "metadata": {},
     "output_type": "execute_result"
    }
   ],
   "source": [
    "df.describe()"
   ]
  },
  {
   "cell_type": "code",
   "execution_count": 57,
   "metadata": {},
   "outputs": [
    {
     "name": "stdout",
     "output_type": "stream",
     "text": [
      "<class 'pandas.core.frame.DataFrame'>\n",
      "RangeIndex: 10000 entries, 0 to 9999\n",
      "Data columns (total 6 columns):\n",
      "Фактор_1     10000 non-null float64\n",
      "Фактор_2     10000 non-null float64\n",
      "Фактор_3     9999 non-null float64\n",
      "Фактор_4     10000 non-null float64\n",
      "Фактор_5     10000 non-null float64\n",
      "Результат    10000 non-null float64\n",
      "dtypes: float64(6)\n",
      "memory usage: 468.8 KB\n"
     ]
    }
   ],
   "source": [
    "df.info()"
   ]
  },
  {
   "cell_type": "code",
   "execution_count": 73,
   "metadata": {},
   "outputs": [],
   "source": [
    "df.iloc[1,2] = np.NaN\n",
    "df.iloc[1,3] = np.NaN\n",
    "df.iloc[2,4] = np.NaN"
   ]
  },
  {
   "cell_type": "code",
   "execution_count": 74,
   "metadata": {},
   "outputs": [
    {
     "data": {
      "text/html": [
       "<div>\n",
       "<style scoped>\n",
       "    .dataframe tbody tr th:only-of-type {\n",
       "        vertical-align: middle;\n",
       "    }\n",
       "\n",
       "    .dataframe tbody tr th {\n",
       "        vertical-align: top;\n",
       "    }\n",
       "\n",
       "    .dataframe thead th {\n",
       "        text-align: right;\n",
       "    }\n",
       "</style>\n",
       "<table border=\"1\" class=\"dataframe\">\n",
       "  <thead>\n",
       "    <tr style=\"text-align: right;\">\n",
       "      <th></th>\n",
       "      <th>Фактор_1</th>\n",
       "      <th>Фактор_2</th>\n",
       "      <th>Фактор_3</th>\n",
       "      <th>Фактор_4</th>\n",
       "      <th>Фактор_5</th>\n",
       "      <th>Результат</th>\n",
       "    </tr>\n",
       "  </thead>\n",
       "  <tbody>\n",
       "    <tr>\n",
       "      <th>0</th>\n",
       "      <td>0.691776</td>\n",
       "      <td>2.041117</td>\n",
       "      <td>1.398636</td>\n",
       "      <td>-0.002241</td>\n",
       "      <td>-1.289460</td>\n",
       "      <td>208.552122</td>\n",
       "    </tr>\n",
       "    <tr>\n",
       "      <th>1</th>\n",
       "      <td>1.723952</td>\n",
       "      <td>-0.418888</td>\n",
       "      <td>NaN</td>\n",
       "      <td>NaN</td>\n",
       "      <td>-0.711142</td>\n",
       "      <td>-5.266856</td>\n",
       "    </tr>\n",
       "    <tr>\n",
       "      <th>2</th>\n",
       "      <td>-0.783759</td>\n",
       "      <td>1.592995</td>\n",
       "      <td>-0.120948</td>\n",
       "      <td>-0.617878</td>\n",
       "      <td>NaN</td>\n",
       "      <td>125.434549</td>\n",
       "    </tr>\n",
       "    <tr>\n",
       "      <th>3</th>\n",
       "      <td>0.875023</td>\n",
       "      <td>0.497525</td>\n",
       "      <td>0.059610</td>\n",
       "      <td>-0.142673</td>\n",
       "      <td>0.070149</td>\n",
       "      <td>66.393270</td>\n",
       "    </tr>\n",
       "    <tr>\n",
       "      <th>4</th>\n",
       "      <td>-0.801724</td>\n",
       "      <td>1.514589</td>\n",
       "      <td>0.059846</td>\n",
       "      <td>0.459232</td>\n",
       "      <td>-0.399702</td>\n",
       "      <td>132.957621</td>\n",
       "    </tr>\n",
       "  </tbody>\n",
       "</table>\n",
       "</div>"
      ],
      "text/plain": [
       "   Фактор_1  Фактор_2  Фактор_3  Фактор_4  Фактор_5   Результат\n",
       "0  0.691776  2.041117  1.398636 -0.002241 -1.289460  208.552122\n",
       "1  1.723952 -0.418888       NaN       NaN -0.711142   -5.266856\n",
       "2 -0.783759  1.592995 -0.120948 -0.617878       NaN  125.434549\n",
       "3  0.875023  0.497525  0.059610 -0.142673  0.070149   66.393270\n",
       "4 -0.801724  1.514589  0.059846  0.459232 -0.399702  132.957621"
      ]
     },
     "execution_count": 74,
     "metadata": {},
     "output_type": "execute_result"
    }
   ],
   "source": [
    "df.head()"
   ]
  },
  {
   "cell_type": "code",
   "execution_count": 75,
   "metadata": {},
   "outputs": [],
   "source": [
    "df[\"Фактор_5\"] = df[\"Фактор_5\"].fillna(0)\n",
    "df[\"Фактор_3\"] = df[\"Фактор_3\"].fillna(df[\"Фактор_3\"].mean())\n",
    "df[\"Фактор_4\"] = df[\"Фактор_4\"].fillna(df[\"Фактор_4\"].median())"
   ]
  },
  {
   "cell_type": "code",
   "execution_count": 76,
   "metadata": {},
   "outputs": [
    {
     "data": {
      "text/html": [
       "<div>\n",
       "<style scoped>\n",
       "    .dataframe tbody tr th:only-of-type {\n",
       "        vertical-align: middle;\n",
       "    }\n",
       "\n",
       "    .dataframe tbody tr th {\n",
       "        vertical-align: top;\n",
       "    }\n",
       "\n",
       "    .dataframe thead th {\n",
       "        text-align: right;\n",
       "    }\n",
       "</style>\n",
       "<table border=\"1\" class=\"dataframe\">\n",
       "  <thead>\n",
       "    <tr style=\"text-align: right;\">\n",
       "      <th></th>\n",
       "      <th>Фактор_1</th>\n",
       "      <th>Фактор_2</th>\n",
       "      <th>Фактор_3</th>\n",
       "      <th>Фактор_4</th>\n",
       "      <th>Фактор_5</th>\n",
       "      <th>Результат</th>\n",
       "    </tr>\n",
       "  </thead>\n",
       "  <tbody>\n",
       "    <tr>\n",
       "      <th>0</th>\n",
       "      <td>0.691776</td>\n",
       "      <td>2.041117</td>\n",
       "      <td>1.398636</td>\n",
       "      <td>-0.002241</td>\n",
       "      <td>-1.289460</td>\n",
       "      <td>208.552122</td>\n",
       "    </tr>\n",
       "    <tr>\n",
       "      <th>1</th>\n",
       "      <td>1.723952</td>\n",
       "      <td>-0.418888</td>\n",
       "      <td>-0.006161</td>\n",
       "      <td>0.004909</td>\n",
       "      <td>-0.711142</td>\n",
       "      <td>-5.266856</td>\n",
       "    </tr>\n",
       "    <tr>\n",
       "      <th>2</th>\n",
       "      <td>-0.783759</td>\n",
       "      <td>1.592995</td>\n",
       "      <td>-0.120948</td>\n",
       "      <td>-0.617878</td>\n",
       "      <td>0.000000</td>\n",
       "      <td>125.434549</td>\n",
       "    </tr>\n",
       "    <tr>\n",
       "      <th>3</th>\n",
       "      <td>0.875023</td>\n",
       "      <td>0.497525</td>\n",
       "      <td>0.059610</td>\n",
       "      <td>-0.142673</td>\n",
       "      <td>0.070149</td>\n",
       "      <td>66.393270</td>\n",
       "    </tr>\n",
       "    <tr>\n",
       "      <th>4</th>\n",
       "      <td>-0.801724</td>\n",
       "      <td>1.514589</td>\n",
       "      <td>0.059846</td>\n",
       "      <td>0.459232</td>\n",
       "      <td>-0.399702</td>\n",
       "      <td>132.957621</td>\n",
       "    </tr>\n",
       "  </tbody>\n",
       "</table>\n",
       "</div>"
      ],
      "text/plain": [
       "   Фактор_1  Фактор_2  Фактор_3  Фактор_4  Фактор_5   Результат\n",
       "0  0.691776  2.041117  1.398636 -0.002241 -1.289460  208.552122\n",
       "1  1.723952 -0.418888 -0.006161  0.004909 -0.711142   -5.266856\n",
       "2 -0.783759  1.592995 -0.120948 -0.617878  0.000000  125.434549\n",
       "3  0.875023  0.497525  0.059610 -0.142673  0.070149   66.393270\n",
       "4 -0.801724  1.514589  0.059846  0.459232 -0.399702  132.957621"
      ]
     },
     "execution_count": 76,
     "metadata": {},
     "output_type": "execute_result"
    }
   ],
   "source": [
    "df.head()"
   ]
  },
  {
   "cell_type": "markdown",
   "metadata": {},
   "source": [
    "### Построение модели регрессии"
   ]
  },
  {
   "cell_type": "code",
   "execution_count": 129,
   "metadata": {},
   "outputs": [],
   "source": [
    "model = LinearRegression()"
   ]
  },
  {
   "cell_type": "code",
   "execution_count": 130,
   "metadata": {},
   "outputs": [
    {
     "data": {
      "text/plain": [
       "LinearRegression()"
      ]
     },
     "execution_count": 130,
     "metadata": {},
     "output_type": "execute_result"
    }
   ],
   "source": [
    "model.fit(X, y)"
   ]
  },
  {
   "cell_type": "code",
   "execution_count": 131,
   "metadata": {},
   "outputs": [
    {
     "data": {
      "text/plain": [
       "array([[ 7.45671289e+01, -2.18653421e-03,  2.00539719e+01,\n",
       "         5.09129683e+01,  9.90866056e+01]])"
      ]
     },
     "execution_count": 131,
     "metadata": {},
     "output_type": "execute_result"
    }
   ],
   "source": [
    "model.coef_"
   ]
  },
  {
   "cell_type": "code",
   "execution_count": 132,
   "metadata": {},
   "outputs": [
    {
     "name": "stdout",
     "output_type": "stream",
     "text": [
      "74.56712891033067\n",
      "-0.002186534210388963\n",
      "20.05397192136681\n",
      "50.91296828514143\n",
      "99.08660561479284\n"
     ]
    }
   ],
   "source": [
    "print(model.coef_[0][0])\n",
    "print(model.coef_[0][1])\n",
    "print(model.coef_[0][2])\n",
    "print(model.coef_[0][3])\n",
    "print(model.coef_[0][4])"
   ]
  },
  {
   "cell_type": "code",
   "execution_count": 133,
   "metadata": {},
   "outputs": [
    {
     "data": {
      "text/plain": [
       "array([74.55272975,  0.        , 20.05636632, 50.92266556, 99.09216608])"
      ]
     },
     "execution_count": 133,
     "metadata": {},
     "output_type": "execute_result"
    }
   ],
   "source": [
    "coef"
   ]
  },
  {
   "cell_type": "code",
   "execution_count": 139,
   "metadata": {},
   "outputs": [
    {
     "data": {
      "text/plain": [
       "array([[244.60557661]])"
      ]
     },
     "execution_count": 139,
     "metadata": {},
     "output_type": "execute_result"
    }
   ],
   "source": [
    "model.predict([[1,1,1,1,1]])"
   ]
  },
  {
   "cell_type": "markdown",
   "metadata": {},
   "source": [
    "### Построение модели классификации"
   ]
  },
  {
   "cell_type": "code",
   "execution_count": 113,
   "metadata": {},
   "outputs": [],
   "source": [
    "model = LogisticRegression()"
   ]
  },
  {
   "cell_type": "code",
   "execution_count": 114,
   "metadata": {},
   "outputs": [
    {
     "data": {
      "text/plain": [
       "LogisticRegression()"
      ]
     },
     "execution_count": 114,
     "metadata": {},
     "output_type": "execute_result"
    }
   ],
   "source": [
    "model.fit(classification_data, classification_labels)"
   ]
  },
  {
   "cell_type": "code",
   "execution_count": 115,
   "metadata": {},
   "outputs": [
    {
     "data": {
      "text/plain": [
       "array([[-1.27257875,  0.14133928,  1.09158098,  1.07917765,  0.41005178]])"
      ]
     },
     "execution_count": 115,
     "metadata": {},
     "output_type": "execute_result"
    }
   ],
   "source": [
    "model.coef_"
   ]
  },
  {
   "cell_type": "code",
   "execution_count": 116,
   "metadata": {},
   "outputs": [
    {
     "name": "stdout",
     "output_type": "stream",
     "text": [
      "-1.2725787495313634\n",
      "0.14133927753322817\n",
      "1.0915809800274319\n",
      "1.0791776477235469\n",
      "0.41005178447339485\n"
     ]
    }
   ],
   "source": [
    "print(model.coef_[0][0])\n",
    "print(model.coef_[0][1])\n",
    "print(model.coef_[0][2])\n",
    "print(model.coef_[0][3])\n",
    "print(model.coef_[0][4])"
   ]
  },
  {
   "cell_type": "code",
   "execution_count": 120,
   "metadata": {},
   "outputs": [
    {
     "data": {
      "text/plain": [
       "array([[-3.67566532,  1.43280426, -3.2429289 ,  0.03384957,  0.21445597],\n",
       "       [-1.88805125,  0.34579464, -1.12421301, -2.02034321, -1.27646763],\n",
       "       [-1.1171786 ,  1.03383845, -2.72285658,  3.12372892, -1.25783655],\n",
       "       ...,\n",
       "       [-0.22826457, -0.33117903,  0.5864643 ,  0.82759742, -1.53438193],\n",
       "       [-2.73572828, -0.11190976,  1.45247929, -2.82114298,  0.20448847],\n",
       "       [-0.09801648, -1.52171115,  1.64739356,  0.14739146,  1.70819623]])"
      ]
     },
     "execution_count": 120,
     "metadata": {},
     "output_type": "execute_result"
    }
   ],
   "source": [
    "classification_data"
   ]
  },
  {
   "cell_type": "code",
   "execution_count": 121,
   "metadata": {},
   "outputs": [
    {
     "data": {
      "text/plain": [
       "array([1, 0, 1, 1, 0, 1, 0, 0, 0, 1, 1, 1, 1, 1, 0, 1, 0, 0, 1, 1, 0, 1,\n",
       "       0, 1, 1, 1, 1, 1, 0, 0, 1, 1, 1, 0, 1, 0, 0, 0, 1, 1, 0, 1, 0, 1,\n",
       "       1, 1, 1, 0, 1, 0, 1, 0, 0, 0, 0, 1, 0, 0, 1, 1, 1, 0, 0, 0, 1, 0,\n",
       "       0, 1, 1, 1, 0, 0, 0, 1, 0, 1, 1, 1, 0, 0, 1, 0, 0, 1, 0, 1, 0, 0,\n",
       "       0, 1, 1, 1, 0, 0, 1, 1, 1, 0, 0, 0, 1, 1, 1, 0, 0, 1, 1, 1, 0, 1,\n",
       "       1, 0, 1, 0, 0, 0, 1, 0, 1, 0, 1, 1, 1, 1, 0, 1, 0, 0, 1, 1, 1, 0,\n",
       "       0, 0, 0, 1, 1, 1, 1, 0, 1, 1, 1, 1, 1, 0, 1, 0, 1, 1, 1, 0, 0, 1,\n",
       "       1, 0, 1, 1, 0, 1, 0, 1, 0, 1, 0, 0, 0, 1, 1, 0, 0, 1, 0, 0, 0, 1,\n",
       "       0, 0, 1, 1, 1, 0, 0, 0, 0, 0, 0, 0, 1, 0, 0, 0, 0, 0, 0, 0, 0, 1,\n",
       "       1, 0, 0, 0, 1, 1, 1, 1, 0, 0, 0, 1, 1, 1, 1, 1, 1, 0, 0, 1, 1, 1,\n",
       "       0, 0, 0, 1, 0, 0, 1, 0, 1, 1, 0, 0, 0, 1, 0, 1, 1, 0, 0, 0, 1, 1,\n",
       "       0, 0, 1, 0, 0, 0, 0, 1, 0, 0, 1, 1, 1, 0, 1, 1, 1, 1, 0, 0, 1, 0,\n",
       "       0, 1, 1, 0, 0, 0, 0, 1, 0, 0, 1, 0, 0, 0, 0, 1, 1, 0, 0, 1, 1, 1,\n",
       "       0, 1, 1, 1, 0, 0, 0, 1, 1, 1, 1, 0, 0, 1, 0, 0, 1, 0, 1, 0, 0, 0,\n",
       "       1, 0, 1, 0, 1, 0, 1, 0, 1, 1, 1, 0, 1, 0, 0, 0, 0, 0, 1, 1, 0, 1,\n",
       "       1, 0, 1, 0, 0, 0, 0, 0, 1, 1, 1, 1, 1, 1, 1, 1, 1, 1, 1, 0, 0, 1,\n",
       "       1, 1, 0, 1, 0, 0, 0, 1, 1, 0, 1, 1, 1, 1, 0, 0, 1, 1, 0, 0, 1, 1,\n",
       "       0, 0, 0, 1, 0, 0, 0, 0, 1, 0, 1, 0, 0, 0, 1, 1, 0, 1, 1, 1, 1, 0,\n",
       "       0, 1, 0, 1, 1, 0, 1, 1, 0, 1, 1, 1, 0, 1, 1, 1, 1, 1, 0, 1, 0, 1,\n",
       "       0, 0, 0, 0, 0, 0, 1, 0, 1, 0, 1, 1, 0, 1, 1, 0, 0, 1, 0, 1, 1, 0,\n",
       "       1, 1, 0, 0, 1, 0, 0, 0, 1, 1, 0, 0, 0, 0, 0, 1, 0, 0, 0, 0, 1, 1,\n",
       "       1, 0, 1, 1, 0, 0, 1, 1, 0, 1, 1, 1, 1, 0, 0, 0, 0, 1, 1, 0, 1, 1,\n",
       "       1, 1, 0, 0, 0, 0, 0, 0, 0, 1, 0, 1, 1, 1, 1, 1])"
      ]
     },
     "execution_count": 121,
     "metadata": {},
     "output_type": "execute_result"
    }
   ],
   "source": [
    "classification_labels"
   ]
  },
  {
   "cell_type": "code",
   "execution_count": 122,
   "metadata": {},
   "outputs": [
    {
     "data": {
      "text/plain": [
       "array([1])"
      ]
     },
     "execution_count": 122,
     "metadata": {},
     "output_type": "execute_result"
    }
   ],
   "source": [
    "model.predict([[1,1,1,1,1]])"
   ]
  },
  {
   "cell_type": "markdown",
   "metadata": {},
   "source": [
    "### Самостоятельный кейс №1"
   ]
  },
  {
   "cell_type": "markdown",
   "metadata": {},
   "source": [
    "- Сгенерируйте выборку для регрессии, содержащую 15000 элементов, 5 информативных признаков, 4 неинформативных признака.\n",
    "- Добавьте шум равный 1.\n",
    "- Постройте модель линейной регрессии и оцените значение целевого признака для примера, содержащего только 0.\n",
    "- Подумайте, на какие показатели мог повлиять добавляемый шум."
   ]
  }
 ],
 "metadata": {
  "kernelspec": {
   "display_name": "Python 3",
   "language": "python",
   "name": "python3"
  },
  "language_info": {
   "codemirror_mode": {
    "name": "ipython",
    "version": 3
   },
   "file_extension": ".py",
   "mimetype": "text/x-python",
   "name": "python",
   "nbconvert_exporter": "python",
   "pygments_lexer": "ipython3",
   "version": "3.8.5"
  }
 },
 "nbformat": 4,
 "nbformat_minor": 2
}
