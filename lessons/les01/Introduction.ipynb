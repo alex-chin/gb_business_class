{
 "cells": [
  {
   "cell_type": "code",
   "execution_count": 46,
   "metadata": {},
   "outputs": [],
   "source": [
    "import numpy as np \n",
    "import pandas as pd \n",
    "import matplotlib.pyplot as plt\n",
    "import seaborn as sns"
   ]
  },
  {
   "cell_type": "markdown",
   "metadata": {},
   "source": [
    "### Загрузка данных"
   ]
  },
  {
   "cell_type": "code",
   "execution_count": 49,
   "metadata": {},
   "outputs": [
    {
     "data": {
      "text/html": [
       "<div>\n",
       "<style scoped>\n",
       "    .dataframe tbody tr th:only-of-type {\n",
       "        vertical-align: middle;\n",
       "    }\n",
       "\n",
       "    .dataframe tbody tr th {\n",
       "        vertical-align: top;\n",
       "    }\n",
       "\n",
       "    .dataframe thead th {\n",
       "        text-align: right;\n",
       "    }\n",
       "</style>\n",
       "<table border=\"1\" class=\"dataframe\">\n",
       "  <thead>\n",
       "    <tr style=\"text-align: right;\">\n",
       "      <th></th>\n",
       "      <th>Unnamed: 0</th>\n",
       "      <th>Фактор_1</th>\n",
       "      <th>Фактор_2</th>\n",
       "      <th>Фактор_3</th>\n",
       "      <th>Фактор_4</th>\n",
       "      <th>Фактор_5</th>\n",
       "      <th>Результат</th>\n",
       "    </tr>\n",
       "  </thead>\n",
       "  <tbody>\n",
       "    <tr>\n",
       "      <th>0</th>\n",
       "      <td>0</td>\n",
       "      <td>-0.875618</td>\n",
       "      <td>-0.802422</td>\n",
       "      <td>0.544614</td>\n",
       "      <td>-0.978409</td>\n",
       "      <td>-0.707771</td>\n",
       "      <td>-150.041180</td>\n",
       "    </tr>\n",
       "    <tr>\n",
       "      <th>1</th>\n",
       "      <td>1</td>\n",
       "      <td>1.709854</td>\n",
       "      <td>0.284644</td>\n",
       "      <td>0.720090</td>\n",
       "      <td>-0.794908</td>\n",
       "      <td>2.288220</td>\n",
       "      <td>36.920564</td>\n",
       "    </tr>\n",
       "    <tr>\n",
       "      <th>2</th>\n",
       "      <td>2</td>\n",
       "      <td>0.274090</td>\n",
       "      <td>0.123838</td>\n",
       "      <td>1.345032</td>\n",
       "      <td>0.083278</td>\n",
       "      <td>1.631007</td>\n",
       "      <td>118.815637</td>\n",
       "    </tr>\n",
       "    <tr>\n",
       "      <th>3</th>\n",
       "      <td>3</td>\n",
       "      <td>-0.252124</td>\n",
       "      <td>-0.080805</td>\n",
       "      <td>0.925068</td>\n",
       "      <td>-0.916911</td>\n",
       "      <td>-1.010404</td>\n",
       "      <td>-75.705320</td>\n",
       "    </tr>\n",
       "    <tr>\n",
       "      <th>4</th>\n",
       "      <td>4</td>\n",
       "      <td>1.341603</td>\n",
       "      <td>-1.799876</td>\n",
       "      <td>1.337460</td>\n",
       "      <td>1.411949</td>\n",
       "      <td>0.676974</td>\n",
       "      <td>63.804022</td>\n",
       "    </tr>\n",
       "  </tbody>\n",
       "</table>\n",
       "</div>"
      ],
      "text/plain": [
       "   Unnamed: 0  Фактор_1  Фактор_2  Фактор_3  Фактор_4  Фактор_5   Результат\n",
       "0           0 -0.875618 -0.802422  0.544614 -0.978409 -0.707771 -150.041180\n",
       "1           1  1.709854  0.284644  0.720090 -0.794908  2.288220   36.920564\n",
       "2           2  0.274090  0.123838  1.345032  0.083278  1.631007  118.815637\n",
       "3           3 -0.252124 -0.080805  0.925068 -0.916911 -1.010404  -75.705320\n",
       "4           4  1.341603 -1.799876  1.337460  1.411949  0.676974   63.804022"
      ]
     },
     "execution_count": 49,
     "metadata": {},
     "output_type": "execute_result"
    }
   ],
   "source": [
    "df = pd.read_excel(\"Introduction.xlsx\")\n",
    "df.head(5)"
   ]
  },
  {
   "cell_type": "code",
   "execution_count": 10,
   "metadata": {},
   "outputs": [],
   "source": [
    "sheet_name = 0 #Загружаем первый лист по порядку\n",
    "sheet_name = 1 #Загружаем второй лист по порядку\n",
    "sheet_name = \"Имя_листа\" #Загружаем лист с определенным именем\n",
    "sheet_name = [0, 3, \"Имя_листа\"] #Можно комбинировать имена листов и их порядковые номера\n",
    "sheet_name = None #Грузить все листы"
   ]
  },
  {
   "cell_type": "code",
   "execution_count": 11,
   "metadata": {},
   "outputs": [],
   "source": [
    "header = 0 #Позволяет указать номер строки, содержащей заголовки для столбцов"
   ]
  },
  {
   "cell_type": "code",
   "execution_count": 12,
   "metadata": {},
   "outputs": [],
   "source": [
    "usecols  = [\"Фактор_1\", \"Фактор_2\", \"Результат\"] \n",
    "#Позволяет указать имена (или номера) столбцов, которые необходимо загрузить"
   ]
  },
  {
   "cell_type": "code",
   "execution_count": null,
   "metadata": {},
   "outputs": [],
   "source": [
    "index_col = 0  #Позволяет указать номер столбца, содержащей индекс (усл. номер строки)"
   ]
  },
  {
   "cell_type": "code",
   "execution_count": 50,
   "metadata": {},
   "outputs": [
    {
     "data": {
      "text/html": [
       "<div>\n",
       "<style scoped>\n",
       "    .dataframe tbody tr th:only-of-type {\n",
       "        vertical-align: middle;\n",
       "    }\n",
       "\n",
       "    .dataframe tbody tr th {\n",
       "        vertical-align: top;\n",
       "    }\n",
       "\n",
       "    .dataframe thead th {\n",
       "        text-align: right;\n",
       "    }\n",
       "</style>\n",
       "<table border=\"1\" class=\"dataframe\">\n",
       "  <thead>\n",
       "    <tr style=\"text-align: right;\">\n",
       "      <th></th>\n",
       "      <th>Фактор_1</th>\n",
       "      <th>Фактор_2</th>\n",
       "      <th>Фактор_3</th>\n",
       "      <th>Фактор_4</th>\n",
       "      <th>Фактор_5</th>\n",
       "      <th>Результат</th>\n",
       "    </tr>\n",
       "  </thead>\n",
       "  <tbody>\n",
       "    <tr>\n",
       "      <th>0</th>\n",
       "      <td>-0.875618</td>\n",
       "      <td>-0.802422</td>\n",
       "      <td>0.544614</td>\n",
       "      <td>-0.978409</td>\n",
       "      <td>-0.707771</td>\n",
       "      <td>-150.041180</td>\n",
       "    </tr>\n",
       "    <tr>\n",
       "      <th>1</th>\n",
       "      <td>1.709854</td>\n",
       "      <td>0.284644</td>\n",
       "      <td>0.720090</td>\n",
       "      <td>-0.794908</td>\n",
       "      <td>2.288220</td>\n",
       "      <td>36.920564</td>\n",
       "    </tr>\n",
       "    <tr>\n",
       "      <th>2</th>\n",
       "      <td>0.274090</td>\n",
       "      <td>0.123838</td>\n",
       "      <td>1.345032</td>\n",
       "      <td>0.083278</td>\n",
       "      <td>1.631007</td>\n",
       "      <td>118.815637</td>\n",
       "    </tr>\n",
       "    <tr>\n",
       "      <th>3</th>\n",
       "      <td>-0.252124</td>\n",
       "      <td>-0.080805</td>\n",
       "      <td>0.925068</td>\n",
       "      <td>-0.916911</td>\n",
       "      <td>-1.010404</td>\n",
       "      <td>-75.705320</td>\n",
       "    </tr>\n",
       "    <tr>\n",
       "      <th>4</th>\n",
       "      <td>1.341603</td>\n",
       "      <td>-1.799876</td>\n",
       "      <td>1.337460</td>\n",
       "      <td>1.411949</td>\n",
       "      <td>0.676974</td>\n",
       "      <td>63.804022</td>\n",
       "    </tr>\n",
       "  </tbody>\n",
       "</table>\n",
       "</div>"
      ],
      "text/plain": [
       "   Фактор_1  Фактор_2  Фактор_3  Фактор_4  Фактор_5   Результат\n",
       "0 -0.875618 -0.802422  0.544614 -0.978409 -0.707771 -150.041180\n",
       "1  1.709854  0.284644  0.720090 -0.794908  2.288220   36.920564\n",
       "2  0.274090  0.123838  1.345032  0.083278  1.631007  118.815637\n",
       "3 -0.252124 -0.080805  0.925068 -0.916911 -1.010404  -75.705320\n",
       "4  1.341603 -1.799876  1.337460  1.411949  0.676974   63.804022"
      ]
     },
     "execution_count": 50,
     "metadata": {},
     "output_type": "execute_result"
    }
   ],
   "source": [
    "df = pd.read_excel(\"Introduction.xlsx\", index_col = 0, usecols  = [\"Фактор_1\", \"Фактор_2\", \"Результат\"] )\n",
    "df.head(5)"
   ]
  },
  {
   "cell_type": "markdown",
   "metadata": {},
   "source": [
    "### Сортировка"
   ]
  },
  {
   "cell_type": "code",
   "execution_count": 33,
   "metadata": {},
   "outputs": [
    {
     "data": {
      "text/html": [
       "<div>\n",
       "<style scoped>\n",
       "    .dataframe tbody tr th:only-of-type {\n",
       "        vertical-align: middle;\n",
       "    }\n",
       "\n",
       "    .dataframe tbody tr th {\n",
       "        vertical-align: top;\n",
       "    }\n",
       "\n",
       "    .dataframe thead th {\n",
       "        text-align: right;\n",
       "    }\n",
       "</style>\n",
       "<table border=\"1\" class=\"dataframe\">\n",
       "  <thead>\n",
       "    <tr style=\"text-align: right;\">\n",
       "      <th></th>\n",
       "      <th>Фактор_1</th>\n",
       "      <th>Фактор_2</th>\n",
       "      <th>Фактор_3</th>\n",
       "      <th>Фактор_4</th>\n",
       "      <th>Фактор_5</th>\n",
       "      <th>Результат</th>\n",
       "    </tr>\n",
       "  </thead>\n",
       "  <tbody>\n",
       "    <tr>\n",
       "      <th>3596</th>\n",
       "      <td>-3.594852</td>\n",
       "      <td>1.172703</td>\n",
       "      <td>-1.012452</td>\n",
       "      <td>0.165743</td>\n",
       "      <td>2.133561</td>\n",
       "      <td>117.284132</td>\n",
       "    </tr>\n",
       "    <tr>\n",
       "      <th>5945</th>\n",
       "      <td>-3.573703</td>\n",
       "      <td>0.932177</td>\n",
       "      <td>2.154253</td>\n",
       "      <td>0.489611</td>\n",
       "      <td>1.240095</td>\n",
       "      <td>249.968454</td>\n",
       "    </tr>\n",
       "    <tr>\n",
       "      <th>4027</th>\n",
       "      <td>-3.462815</td>\n",
       "      <td>-0.872593</td>\n",
       "      <td>-0.609189</td>\n",
       "      <td>1.869834</td>\n",
       "      <td>0.879972</td>\n",
       "      <td>99.044712</td>\n",
       "    </tr>\n",
       "    <tr>\n",
       "      <th>1172</th>\n",
       "      <td>-3.305736</td>\n",
       "      <td>0.441937</td>\n",
       "      <td>0.595063</td>\n",
       "      <td>1.831923</td>\n",
       "      <td>0.438937</td>\n",
       "      <td>246.215236</td>\n",
       "    </tr>\n",
       "    <tr>\n",
       "      <th>6800</th>\n",
       "      <td>-3.292729</td>\n",
       "      <td>1.293112</td>\n",
       "      <td>-0.360087</td>\n",
       "      <td>0.446890</td>\n",
       "      <td>-1.120527</td>\n",
       "      <td>103.526684</td>\n",
       "    </tr>\n",
       "    <tr>\n",
       "      <th>3221</th>\n",
       "      <td>-3.269482</td>\n",
       "      <td>-1.018570</td>\n",
       "      <td>0.177814</td>\n",
       "      <td>-0.542683</td>\n",
       "      <td>0.365136</td>\n",
       "      <td>-116.965865</td>\n",
       "    </tr>\n",
       "    <tr>\n",
       "      <th>8523</th>\n",
       "      <td>-3.253324</td>\n",
       "      <td>0.617110</td>\n",
       "      <td>-1.825946</td>\n",
       "      <td>-0.621008</td>\n",
       "      <td>-0.303373</td>\n",
       "      <td>-98.522183</td>\n",
       "    </tr>\n",
       "  </tbody>\n",
       "</table>\n",
       "</div>"
      ],
      "text/plain": [
       "      Фактор_1  Фактор_2  Фактор_3  Фактор_4  Фактор_5   Результат\n",
       "3596 -3.594852  1.172703 -1.012452  0.165743  2.133561  117.284132\n",
       "5945 -3.573703  0.932177  2.154253  0.489611  1.240095  249.968454\n",
       "4027 -3.462815 -0.872593 -0.609189  1.869834  0.879972   99.044712\n",
       "1172 -3.305736  0.441937  0.595063  1.831923  0.438937  246.215236\n",
       "6800 -3.292729  1.293112 -0.360087  0.446890 -1.120527  103.526684\n",
       "3221 -3.269482 -1.018570  0.177814 -0.542683  0.365136 -116.965865\n",
       "8523 -3.253324  0.617110 -1.825946 -0.621008 -0.303373  -98.522183"
      ]
     },
     "execution_count": 33,
     "metadata": {},
     "output_type": "execute_result"
    }
   ],
   "source": [
    "df.sort_values(by = [\"Фактор_1\"]).head(7)"
   ]
  },
  {
   "cell_type": "code",
   "execution_count": 36,
   "metadata": {},
   "outputs": [
    {
     "data": {
      "text/html": [
       "<div>\n",
       "<style scoped>\n",
       "    .dataframe tbody tr th:only-of-type {\n",
       "        vertical-align: middle;\n",
       "    }\n",
       "\n",
       "    .dataframe tbody tr th {\n",
       "        vertical-align: top;\n",
       "    }\n",
       "\n",
       "    .dataframe thead th {\n",
       "        text-align: right;\n",
       "    }\n",
       "</style>\n",
       "<table border=\"1\" class=\"dataframe\">\n",
       "  <thead>\n",
       "    <tr style=\"text-align: right;\">\n",
       "      <th></th>\n",
       "      <th>Фактор_1</th>\n",
       "      <th>Фактор_2</th>\n",
       "      <th>Фактор_3</th>\n",
       "      <th>Фактор_4</th>\n",
       "      <th>Фактор_5</th>\n",
       "      <th>Результат</th>\n",
       "    </tr>\n",
       "  </thead>\n",
       "  <tbody>\n",
       "    <tr>\n",
       "      <th>6808</th>\n",
       "      <td>3.943094</td>\n",
       "      <td>-1.806564</td>\n",
       "      <td>0.595586</td>\n",
       "      <td>0.386546</td>\n",
       "      <td>-0.586220</td>\n",
       "      <td>-97.868637</td>\n",
       "    </tr>\n",
       "    <tr>\n",
       "      <th>486</th>\n",
       "      <td>3.773928</td>\n",
       "      <td>1.287303</td>\n",
       "      <td>0.333202</td>\n",
       "      <td>0.154520</td>\n",
       "      <td>0.306050</td>\n",
       "      <td>141.858806</td>\n",
       "    </tr>\n",
       "    <tr>\n",
       "      <th>5671</th>\n",
       "      <td>3.552384</td>\n",
       "      <td>-0.636557</td>\n",
       "      <td>0.049976</td>\n",
       "      <td>2.019021</td>\n",
       "      <td>0.224507</td>\n",
       "      <td>146.150106</td>\n",
       "    </tr>\n",
       "    <tr>\n",
       "      <th>1630</th>\n",
       "      <td>3.385442</td>\n",
       "      <td>-2.945990</td>\n",
       "      <td>1.021181</td>\n",
       "      <td>0.125734</td>\n",
       "      <td>-0.141862</td>\n",
       "      <td>-184.941140</td>\n",
       "    </tr>\n",
       "    <tr>\n",
       "      <th>4142</th>\n",
       "      <td>3.310994</td>\n",
       "      <td>0.549917</td>\n",
       "      <td>0.223626</td>\n",
       "      <td>0.763258</td>\n",
       "      <td>0.465625</td>\n",
       "      <td>138.151949</td>\n",
       "    </tr>\n",
       "    <tr>\n",
       "      <th>3188</th>\n",
       "      <td>3.296756</td>\n",
       "      <td>0.787662</td>\n",
       "      <td>1.506704</td>\n",
       "      <td>-0.265180</td>\n",
       "      <td>-0.526058</td>\n",
       "      <td>94.545612</td>\n",
       "    </tr>\n",
       "    <tr>\n",
       "      <th>4596</th>\n",
       "      <td>3.229198</td>\n",
       "      <td>1.632039</td>\n",
       "      <td>-0.253278</td>\n",
       "      <td>-0.301214</td>\n",
       "      <td>0.046584</td>\n",
       "      <td>94.030515</td>\n",
       "    </tr>\n",
       "  </tbody>\n",
       "</table>\n",
       "</div>"
      ],
      "text/plain": [
       "      Фактор_1  Фактор_2  Фактор_3  Фактор_4  Фактор_5   Результат\n",
       "6808  3.943094 -1.806564  0.595586  0.386546 -0.586220  -97.868637\n",
       "486   3.773928  1.287303  0.333202  0.154520  0.306050  141.858806\n",
       "5671  3.552384 -0.636557  0.049976  2.019021  0.224507  146.150106\n",
       "1630  3.385442 -2.945990  1.021181  0.125734 -0.141862 -184.941140\n",
       "4142  3.310994  0.549917  0.223626  0.763258  0.465625  138.151949\n",
       "3188  3.296756  0.787662  1.506704 -0.265180 -0.526058   94.545612\n",
       "4596  3.229198  1.632039 -0.253278 -0.301214  0.046584   94.030515"
      ]
     },
     "execution_count": 36,
     "metadata": {},
     "output_type": "execute_result"
    }
   ],
   "source": [
    "df.sort_values(by=[\"Фактор_1\"], ascending=False).head(7)"
   ]
  },
  {
   "cell_type": "markdown",
   "metadata": {},
   "source": [
    "### Фильтрация"
   ]
  },
  {
   "cell_type": "code",
   "execution_count": 29,
   "metadata": {},
   "outputs": [
    {
     "data": {
      "text/html": [
       "<div>\n",
       "<style scoped>\n",
       "    .dataframe tbody tr th:only-of-type {\n",
       "        vertical-align: middle;\n",
       "    }\n",
       "\n",
       "    .dataframe tbody tr th {\n",
       "        vertical-align: top;\n",
       "    }\n",
       "\n",
       "    .dataframe thead th {\n",
       "        text-align: right;\n",
       "    }\n",
       "</style>\n",
       "<table border=\"1\" class=\"dataframe\">\n",
       "  <thead>\n",
       "    <tr style=\"text-align: right;\">\n",
       "      <th></th>\n",
       "      <th>Фактор_1</th>\n",
       "      <th>Фактор_2</th>\n",
       "      <th>Фактор_3</th>\n",
       "      <th>Фактор_4</th>\n",
       "      <th>Фактор_5</th>\n",
       "      <th>Результат</th>\n",
       "    </tr>\n",
       "  </thead>\n",
       "  <tbody>\n",
       "    <tr>\n",
       "      <th>1</th>\n",
       "      <td>1.709854</td>\n",
       "      <td>0.284644</td>\n",
       "      <td>0.720090</td>\n",
       "      <td>-0.794908</td>\n",
       "      <td>2.288220</td>\n",
       "      <td>36.920564</td>\n",
       "    </tr>\n",
       "    <tr>\n",
       "      <th>2</th>\n",
       "      <td>0.274090</td>\n",
       "      <td>0.123838</td>\n",
       "      <td>1.345032</td>\n",
       "      <td>0.083278</td>\n",
       "      <td>1.631007</td>\n",
       "      <td>118.815637</td>\n",
       "    </tr>\n",
       "    <tr>\n",
       "      <th>4</th>\n",
       "      <td>1.341603</td>\n",
       "      <td>-1.799876</td>\n",
       "      <td>1.337460</td>\n",
       "      <td>1.411949</td>\n",
       "      <td>0.676974</td>\n",
       "      <td>63.804022</td>\n",
       "    </tr>\n",
       "    <tr>\n",
       "      <th>5</th>\n",
       "      <td>0.033802</td>\n",
       "      <td>1.821945</td>\n",
       "      <td>-0.429779</td>\n",
       "      <td>1.759162</td>\n",
       "      <td>-0.246140</td>\n",
       "      <td>288.373675</td>\n",
       "    </tr>\n",
       "    <tr>\n",
       "      <th>8</th>\n",
       "      <td>0.574233</td>\n",
       "      <td>-1.357340</td>\n",
       "      <td>0.156714</td>\n",
       "      <td>-0.624499</td>\n",
       "      <td>0.197674</td>\n",
       "      <td>-157.280745</td>\n",
       "    </tr>\n",
       "  </tbody>\n",
       "</table>\n",
       "</div>"
      ],
      "text/plain": [
       "   Фактор_1  Фактор_2  Фактор_3  Фактор_4  Фактор_5   Результат\n",
       "1  1.709854  0.284644  0.720090 -0.794908  2.288220   36.920564\n",
       "2  0.274090  0.123838  1.345032  0.083278  1.631007  118.815637\n",
       "4  1.341603 -1.799876  1.337460  1.411949  0.676974   63.804022\n",
       "5  0.033802  1.821945 -0.429779  1.759162 -0.246140  288.373675\n",
       "8  0.574233 -1.357340  0.156714 -0.624499  0.197674 -157.280745"
      ]
     },
     "execution_count": 29,
     "metadata": {},
     "output_type": "execute_result"
    }
   ],
   "source": [
    "df[df[\"Фактор_1\"] > 0].head(5)"
   ]
  },
  {
   "cell_type": "code",
   "execution_count": 30,
   "metadata": {},
   "outputs": [],
   "source": [
    "df1 = df[df[\"Фактор_1\"] > 0]"
   ]
  },
  {
   "cell_type": "markdown",
   "metadata": {},
   "source": [
    "### Визуализация"
   ]
  },
  {
   "cell_type": "code",
   "execution_count": 47,
   "metadata": {},
   "outputs": [
    {
     "data": {
      "text/plain": [
       "<matplotlib.axes._subplots.AxesSubplot at 0x1cee44e74a8>"
      ]
     },
     "execution_count": 47,
     "metadata": {},
     "output_type": "execute_result"
    },
    {
     "data": {
      "image/png": "[encoded data removed]",
      "text/plain": [
       "<Figure size 432x288 with 1 Axes>"
      ]
     },
     "metadata": {
      "needs_background": "light"
     },
     "output_type": "display_data"
    }
   ],
   "source": [
    "sns.distplot(df['Фактор_1'])"
   ]
  },
  {
   "cell_type": "code",
   "execution_count": 48,
   "metadata": {},
   "outputs": [
    {
     "data": {
      "image/png": "[encoded data removed]",
      "text/plain": [
       "<Figure size 432x288 with 1 Axes>"
      ]
     },
     "metadata": {
      "needs_background": "light"
     },
     "output_type": "display_data"
    }
   ],
   "source": [
    "plt.plot(df[\"Результат\"]);"
   ]
  }
 ],
 "metadata": {
  "kernelspec": {
   "display_name": "Python 3",
   "language": "python",
   "name": "python3"
  },
  "language_info": {
   "codemirror_mode": {
    "name": "ipython",
    "version": 3
   },
   "file_extension": ".py",
   "mimetype": "text/x-python",
   "name": "python",
   "nbconvert_exporter": "python",
   "pygments_lexer": "ipython3",
   "version": "3.8.5"
  }
 },
 "nbformat": 4,
 "nbformat_minor": 2
}
